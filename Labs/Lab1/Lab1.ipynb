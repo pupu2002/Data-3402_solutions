{
 "cells": [
  {
   "cell_type": "markdown",
   "id": "7f2e3323",
   "metadata": {},
   "source": [
    "# Lab 1- Tic Tac Toe\n",
    "\n",
    "In this lab your will build a n x n Tic Tac Toe game. As you do the exercises, make sure your solutions work for any size Tic Tac Toe game. "
   ]
  },
  {
   "cell_type": "markdown",
   "id": "652fa092",
   "metadata": {},
   "source": [
    "*Exercise 1:* Write a function that creates an n by n matrix (of list of lists) which will represent the state of a Tie Tac Toe game. Let 0, 1, and 2 represent empty, \"X\", and \"O\", respectively."
   ]
  },
  {
   "cell_type": "code",
   "execution_count": 1,
   "id": "d6bdca7d",
   "metadata": {},
   "outputs": [
    {
     "name": "stdout",
     "output_type": "stream",
     "text": [
      "[[0. 0. 0.]\n",
      " [0. 0. 0.]\n",
      " [0. 0. 0.]]\n"
     ]
    }
   ],
   "source": [
    "import numpy as np\n",
    "def board_show(n):\n",
    "    board=np.zeros((n,n))\n",
    "    print(board)\n",
    "board_show(3)"
   ]
  },
  {
   "cell_type": "markdown",
   "id": "c45b7559",
   "metadata": {},
   "source": [
    "*Exercise 2:* Write a function that takes 2 integers `n` and `m` as input and draws a `n` by `m` game board. For example the following is a 3x3 board:\n",
    "```\n",
    "   --- --- --- \n",
    "  |   |   |   | \n",
    "   --- --- ---  \n",
    "  |   |   |   | \n",
    "   --- --- ---  \n",
    "  |   |   |   | \n",
    "   --- --- --- \n",
    "   ```"
   ]
  },
  {
   "cell_type": "code",
   "execution_count": 2,
   "id": "8b85311f",
   "metadata": {},
   "outputs": [
    {
     "name": "stdout",
     "output_type": "stream",
     "text": [
      " --- ---\n",
      "|   |   |   \n",
      " --- ---\n",
      "|   |   |   \n",
      " --- ---\n",
      "|   |   |   \n",
      " --- ---\n"
     ]
    }
   ],
   "source": [
    "def draw_board(n, m):\n",
    "    for i in range(m):\n",
    "        print(\" ---\" * n)\n",
    "        print(\"|   \" * (n + 1))\n",
    "    print(\" ---\" * n)\n",
    "\n",
    "draw_board(2, 3)\n"
   ]
  },
  {
   "cell_type": "markdown",
   "id": "c475f6c8",
   "metadata": {},
   "source": [
    "*Exercise 3:* Modify exercise 2, so that it takes a matrix of the form from exercise 1 and draws a tic-tac-tie board with \"X\"s and \"O\"s. "
   ]
  },
  {
   "cell_type": "code",
   "execution_count": 3,
   "id": "9ef4cd66",
   "metadata": {},
   "outputs": [],
   "source": [
    "player_1 = 1\n",
    "player_2 = 2\n",
    "empty = 0\n",
    "\n",
    "player_1_piece = \"X\"\n",
    "player_2_piece = \"O\"\n",
    "empty_space = \" \"\n",
    "\n",
    "space_character = {player_1: player_1_piece,\n",
    "                  player_2: player_2_piece,\n",
    "                  empty: empty_space}\n",
    "\n",
    "\n",
    "def draw_board(board):\n",
    "    n,m=np.shape(board)\n",
    "    row_names = list(\"ABCDEFGHIJKLMNOPQRSTUVWXYZ\")\n",
    "\n",
    "               \n",
    "    col_names = list(map(str,range(1,n+1)))\n",
    "    \n",
    "    \n",
    "    print(\" \", end = \" \")\n",
    "    for i in range(n):\n",
    "        print(\" \",col_names[i], end = \" \")\n",
    "    print(\"\")\n",
    "        \n",
    "    print(\" \",\" ---\"*n)\n",
    "    for i in range(n):\n",
    "        print(row_names[i], end = \" \")\n",
    "        print(\"|\",end=\" \")\n",
    "        for j in range(n):\n",
    "            print(space_character[board[i][j]],end=\" \")\n",
    "            print(\"|\",end=\" \")\n",
    "        print()  \n",
    "        print(\" \",\" ---\"*n)\n",
    "    "
   ]
  },
  {
   "cell_type": "code",
   "execution_count": 4,
   "id": "830b52bb",
   "metadata": {},
   "outputs": [
    {
     "name": "stdout",
     "output_type": "stream",
     "text": [
      "    1   2   3 \n",
      "   --- --- ---\n",
      "A | X |   |   | \n",
      "   --- --- ---\n",
      "B | X | X |   | \n",
      "   --- --- ---\n",
      "C |   | O | X | \n",
      "   --- --- ---\n"
     ]
    }
   ],
   "source": [
    "board_1= [[1,0,0],[1,1,0],[0,2,1]]\n",
    "draw_board(board_1)"
   ]
  },
  {
   "cell_type": "markdown",
   "id": "da8ea189",
   "metadata": {},
   "source": [
    "*Exercise 4:* Write a function that takes a `n` by `n` matrix representing a tic-tac-toe game, and returns -1, 0, 1, or 2 indicating the game is incomplete, the game is a draw, player 1 has won, or player 2 has one, respectively. Here are some example inputs you can use to test your code:"
   ]
  },
  {
   "cell_type": "code",
   "execution_count": 5,
   "id": "d5f651b0",
   "metadata": {},
   "outputs": [],
   "source": [
    "def diagonal_equal(board):\n",
    "    diag = list()\n",
    "    for i in range(len(board)):\n",
    "        diag.append(board[i][i])\n",
    "    if diag == [1]*len(board):\n",
    "        return 1\n",
    "    elif diag==[2]*len(board):\n",
    "        return 2\n",
    "def diagonal2_equal(board):\n",
    "    diag2 = list()\n",
    "    for i in range(len(board)):\n",
    "        diag2.append(board[i][len(board)-i-1])\n",
    "    if diag2 == [1]*len(board):\n",
    "        return 1\n",
    "    elif diag2 ==[2]*len(board):\n",
    "        return 2\n",
    "def horizontal_equal(board):\n",
    "    \n",
    "    \n",
    "    for i in range(len(board)):\n",
    "        hori=[]\n",
    "        for j in range(len(board)):\n",
    "            hori.append(board[i][j])\n",
    "        if hori==[1]*len(board):\n",
    "            return 1\n",
    "            break\n",
    "        elif hori==[2]*len(board):\n",
    "            return 2\n",
    "            break\n",
    "        else:\n",
    "            continue\n",
    "def vertical_equal(board):\n",
    "    \n",
    "    i=0\n",
    "    for i in range(len(board)):\n",
    "        vert=[]\n",
    "        for j in range(len(board)):\n",
    "            vert.append(board[j][i])\n",
    "        if vert==[1]*len(board):\n",
    "            return 1\n",
    "            break\n",
    "        elif vert==[2]*len(board):\n",
    "            return 2\n",
    "            break\n",
    "        else:\n",
    "            continue   \n",
    "            \n",
    "def is_space(board):\n",
    "    n,m=np.shape(board)\n",
    "    for i in range(n):\n",
    "        for j in range(n):\n",
    "            if board[i][j]==0:\n",
    "                return True\n",
    "            \n",
    "def status(board):\n",
    "    if diagonal_equal(board)==1:\n",
    "        return \"player 1 wins\"\n",
    "    elif diagonal_equal(board)==2:\n",
    "        return \"player 2 wins\"\n",
    "    if diagonal2_equal(board)==1:\n",
    "        return \"player 1 wins\"\n",
    "    elif diagonal2_equal(board)==2:\n",
    "        return \"player 2 wins\"\n",
    "    elif horizontal_equal(board)==1:\n",
    "        return \"player 1 wins\"\n",
    "        \n",
    "    elif horizontal_equal(board)==2:\n",
    "        return \"player 2 wins\"\n",
    "    elif vertical_equal(board)==1:\n",
    "        return \"player 1 wins\"\n",
    "    elif vertical_equal(board)==2:\n",
    "        return \"player 2 wins\"\n",
    "    elif is_space(board)==True:\n",
    "        return \"game incomplete\"\n",
    "    else:\n",
    "        return \"draw!\""
   ]
  },
  {
   "cell_type": "code",
   "execution_count": 6,
   "id": "1a387db0",
   "metadata": {},
   "outputs": [
    {
     "data": {
      "text/plain": [
       "'player 2 wins'"
      ]
     },
     "execution_count": 6,
     "metadata": {},
     "output_type": "execute_result"
    }
   ],
   "source": [
    "board2=[[2, 2, 0],\n",
    "\t[2, 1, 0],\n",
    "\t[2, 1, 1]]\n",
    "status(board2)"
   ]
  },
  {
   "cell_type": "code",
   "execution_count": 7,
   "id": "48c95834",
   "metadata": {},
   "outputs": [
    {
     "data": {
      "text/plain": [
       "'game incomplete'"
      ]
     },
     "execution_count": 7,
     "metadata": {},
     "output_type": "execute_result"
    }
   ],
   "source": [
    "board3=[[1, 2, 0],\n",
    "\t[2, 1, 0],\n",
    "\t[2, 1, 2]]\n",
    "status(board3)"
   ]
  },
  {
   "cell_type": "code",
   "execution_count": 8,
   "id": "8151cfc1",
   "metadata": {},
   "outputs": [
    {
     "data": {
      "text/plain": [
       "'game incomplete'"
      ]
     },
     "execution_count": 8,
     "metadata": {},
     "output_type": "execute_result"
    }
   ],
   "source": [
    "board4=[[1, 2, 0],\n",
    "\t[2, 1, 0],\n",
    "\t[2, 1, 0]]\n",
    "status(board4)\n"
   ]
  },
  {
   "cell_type": "code",
   "execution_count": 9,
   "id": "2dc338c8",
   "metadata": {},
   "outputs": [
    {
     "data": {
      "text/plain": [
       "'player 1 wins'"
      ]
     },
     "execution_count": 9,
     "metadata": {},
     "output_type": "execute_result"
    }
   ],
   "source": [
    "board5=[[1, 2, 0],\n",
    "\t[2, 1, 0],\n",
    "\t[2, 1, 1]]\n",
    "status(board5)"
   ]
  },
  {
   "cell_type": "markdown",
   "id": "c4ad78b6",
   "metadata": {},
   "source": [
    "*Exercise 5:* Write a function that takes a game board, player number, and `(x,y)` coordinates and places \"X\" or \"O\" in the correct location of the game board. Make sure that you only allow filling previously empty locations. Return `True` or `False` to indicate successful placement of \"X\" or \"O\"."
   ]
  },
  {
   "cell_type": "code",
   "execution_count": 10,
   "id": "96bc874b",
   "metadata": {},
   "outputs": [],
   "source": [
    "def print_message(message, verbose=True):\n",
    "    if verbose:\n",
    "        print(message)\n",
    "\n",
    "def make_move(board,player,location,verbose=True):\n",
    "    n,m=np.shape(board)\n",
    "\n",
    "    x,y=location\n",
    "    if x-1 not in range(n) or y-1 not in range(n):\n",
    "        print_message(\"Location is invalid\",verbose)\n",
    "        return False\n",
    "    if board[x-1][y-1]!=0:\n",
    "        print(\"try again\")\n",
    "    else:\n",
    "        if player==1:\n",
    "            board[x-1][y-1]=1\n",
    "            draw_board(board)\n",
    "        \n",
    "            \n",
    "        elif player==2:\n",
    "            board[x-1][y-1]=2\n",
    "            draw_board(board)"
   ]
  },
  {
   "cell_type": "code",
   "execution_count": 11,
   "id": "46b333fa",
   "metadata": {},
   "outputs": [
    {
     "name": "stdout",
     "output_type": "stream",
     "text": [
      "    1   2   3 \n",
      "   --- --- ---\n",
      "A | X | O |   | \n",
      "   --- --- ---\n",
      "B | O | X |   | \n",
      "   --- --- ---\n",
      "C | O | X | X | \n",
      "   --- --- ---\n"
     ]
    }
   ],
   "source": [
    "make_move(board4,1,(3,3))"
   ]
  },
  {
   "cell_type": "markdown",
   "id": "93bbbbea",
   "metadata": {},
   "source": [
    "*Exercise 6:* Modify Exercise 4 to show column and row labels so that players can specify location using \"A2\" or \"C1\"."
   ]
  },
  {
   "cell_type": "code",
   "execution_count": 12,
   "id": "148433c3",
   "metadata": {},
   "outputs": [],
   "source": [
    "def draw_board(board):\n",
    "    n,m=np.shape(board)\n",
    "    row_names = list(\"ABCDEFGHIJKLMNOPQRSTUVWXYZ\")\n",
    "\n",
    "               \n",
    "    col_names = list(map(str,range(1,n+1)))\n",
    "    \n",
    "    \n",
    "    print(\" \", end = \" \")\n",
    "    for i in range(n):\n",
    "        print(\" \",col_names[i], end = \" \")\n",
    "    print(\"\")\n",
    "        \n",
    "    print(\" \",\" ---\"*n)\n",
    "    for i in range(n):\n",
    "        print(row_names[i], end = \" \")\n",
    "        print(\"|\",end=\" \")\n",
    "        for j in range(n):\n",
    "            print(space_character[board[i][j]],end=\" \")\n",
    "            print(\"|\",end=\" \")\n",
    "        print()  \n",
    "        print(\" \",\" ---\"*n)"
   ]
  },
  {
   "cell_type": "code",
   "execution_count": 13,
   "id": "dda5d7bc",
   "metadata": {},
   "outputs": [
    {
     "name": "stdout",
     "output_type": "stream",
     "text": [
      "    1   2   3 \n",
      "   --- --- ---\n",
      "A | X |   |   | \n",
      "   --- --- ---\n",
      "B | X | X |   | \n",
      "   --- --- ---\n",
      "C |   | O | X | \n",
      "   --- --- ---\n"
     ]
    }
   ],
   "source": [
    "draw_board(board_1)"
   ]
  },
  {
   "cell_type": "markdown",
   "id": "cd290eaf",
   "metadata": {},
   "source": [
    "*Exercise 7:* Write a function that takes a board, player number, and location specified as in exercise 6 and then calls exercise 5 to correctly modify the board.  "
   ]
  },
  {
   "cell_type": "code",
   "execution_count": 14,
   "id": "26789753",
   "metadata": {},
   "outputs": [],
   "source": [
    "def make_move2(board,player,location):\n",
    "    \n",
    "    col = int(location[1]) - 1\n",
    "    row = ord(location[0].upper()) - ord('A')\n",
    "    board[row][col] = player\n",
    "    draw_board(board)"
   ]
  },
  {
   "cell_type": "code",
   "execution_count": 15,
   "id": "2d037709",
   "metadata": {
    "scrolled": true
   },
   "outputs": [
    {
     "name": "stdout",
     "output_type": "stream",
     "text": [
      "    1   2   3 \n",
      "   --- --- ---\n",
      "A | X |   |   | \n",
      "   --- --- ---\n",
      "B |   |   |   | \n",
      "   --- --- ---\n",
      "C |   |   |   | \n",
      "   --- --- ---\n"
     ]
    }
   ],
   "source": [
    "board_test=[[0,0,0],[0,0,0],[0,0,0]]\n",
    "make_move2(board_test,1,'A1')"
   ]
  },
  {
   "cell_type": "code",
   "execution_count": 16,
   "id": "efb3ef54",
   "metadata": {},
   "outputs": [
    {
     "name": "stdout",
     "output_type": "stream",
     "text": [
      "    1   2   3   4 \n",
      "   --- --- --- ---\n",
      "A |   |   |   |   | \n",
      "   --- --- --- ---\n",
      "B |   |   |   | X | \n",
      "   --- --- --- ---\n",
      "C |   |   |   |   | \n",
      "   --- --- --- ---\n",
      "D |   |   |   |   | \n",
      "   --- --- --- ---\n"
     ]
    }
   ],
   "source": [
    "board_test=[[0,0,0,0],[0,0,0,0],[0,0,0,0],[0,0,0,0]]\n",
    "make_move2(board_test,1,'b4')"
   ]
  },
  {
   "cell_type": "markdown",
   "id": "6bd0ecb1",
   "metadata": {},
   "source": [
    "*Exercise 8:* Write a function is called with a board and player number, takes input from the player using python's `input`, and modifies the board using your function from exercise 7. Note that you should keep asking for input until you have gotten a valid input that results in a valid move."
   ]
  },
  {
   "cell_type": "code",
   "execution_count": 17,
   "id": "ca8fd65a",
   "metadata": {},
   "outputs": [],
   "source": [
    "def move2(board,player,vebose=True):\n",
    "    \n",
    "    n = len(board[0])\n",
    "    while True:\n",
    "        move = input(f\"Player {player}, enter your move (e.g. 'A1'): \")\n",
    "        if len(move) != 2:\n",
    "            print(\"Invalid move, try again.\")\n",
    "            continue\n",
    "        row = int(move[1]) - 1\n",
    "        if row < 0 or row >= n:\n",
    "            print(\"Invalid move, try again.\")\n",
    "            continue\n",
    "        col = ord(move[0].upper()) - ord('A')\n",
    "        if col < 0 or col >= n:\n",
    "            print(\"Invalid move, try again.\")\n",
    "            continue\n",
    "        if board[row][col] !=0:\n",
    "            print(\"This cell is already occupied, try again.\")\n",
    "            continue\n",
    "        make_move2(board,player,move)\n",
    "        \n",
    "        break\n",
    "  "
   ]
  },
  {
   "cell_type": "code",
   "execution_count": 18,
   "id": "82e10a58",
   "metadata": {},
   "outputs": [
    {
     "name": "stdout",
     "output_type": "stream",
     "text": [
      "Player 1, enter your move (e.g. 'A1'): a1\n",
      "    1   2   3 \n",
      "   --- --- ---\n",
      "A | X |   |   | \n",
      "   --- --- ---\n",
      "B |   |   |   | \n",
      "   --- --- ---\n",
      "C |   |   |   | \n",
      "   --- --- ---\n"
     ]
    }
   ],
   "source": [
    "board_test2=[[0,0,0],[0,0,0],[0,0,0]]\n",
    "move2(board_test2,1)"
   ]
  },
  {
   "cell_type": "markdown",
   "id": "f3b8e2e7",
   "metadata": {},
   "source": [
    "*Exercise 9:* Use all of the previous exercises to implement a full tic-tac-toe game, where an appropriate board is drawn, 2 players are repeatedly asked for a location coordinates of where they wish to place a mark, and the game status is checked until a player wins or a draw occurs."
   ]
  },
  {
   "cell_type": "code",
   "execution_count": 19,
   "id": "ce7b9b68",
   "metadata": {
    "scrolled": true
   },
   "outputs": [
    {
     "name": "stdout",
     "output_type": "stream",
     "text": [
      "    1   2   3 \n",
      "   --- --- ---\n",
      "A |   |   |   | \n",
      "   --- --- ---\n",
      "B |   |   |   | \n",
      "   --- --- ---\n",
      "C |   |   |   | \n",
      "   --- --- ---\n"
     ]
    }
   ],
   "source": [
    "def empty_board(n):\n",
    "    \n",
    "    \n",
    "    row_names = list(\"ABCDEFGHIJKLMNOPQRSTUVWXYZ\")\n",
    "\n",
    "               \n",
    "    col_names = list(map(str,range(1,n+1)))\n",
    "    \n",
    "    \n",
    "\n",
    "    print(\" \", end = \" \")\n",
    "    for m in range(n):\n",
    "        print(\" \",col_names[m], end = \" \")\n",
    "    print(\"\")\n",
    "        \n",
    "    print(\" \",\" ---\"*n)\n",
    "    for i in range(n):\n",
    "        print(row_names[i], end = \" \")\n",
    "        print(\"|\",end=\" \")\n",
    "        for j in range(n):\n",
    "            \n",
    "            print(\"  |\" ,end=\" \")\n",
    "        print()  \n",
    "        print(\" \",\" ---\"*n)\n",
    "    \n",
    "empty_board(3)\n"
   ]
  },
  {
   "cell_type": "code",
   "execution_count": 20,
   "id": "52a54193",
   "metadata": {},
   "outputs": [],
   "source": [
    "def Tic_Tac_Toe():\n",
    "    n=int(input('enter board size'))\n",
    "    \n",
    "    \n",
    "    empty_board(n)\n",
    "    board=[]\n",
    "        \n",
    "    for j in range(n):\n",
    "        board.append([0]*n)\n",
    "    if is_space(board)==False:\n",
    "        return(status(board))\n",
    "    while is_space(board)==True:\n",
    "        move2(board,1)\n",
    "        \n",
    "        if status(board)==\"player 1 wins\":\n",
    "            print(\"player 1 wins\")\n",
    "            break\n",
    "        elif status(board)==\"player 2 wins\":\n",
    "            print(\"player 2 wins\")            \n",
    "            break\n",
    "        \n",
    "            \n",
    "        elif status(board)=='draw!':\n",
    "            print(\"game is drawn!\")\n",
    "            break\n",
    "            \n",
    "        if status(board)==\"player 1 wins\":\n",
    "            print(\"player 1 wins\")\n",
    "            break\n",
    "        elif status(board)==\"player 2 wins\":\n",
    "            print(\"player 2 wins\")            \n",
    "            break\n",
    "        \n",
    "            \n",
    "        elif status(board)=='draw!':\n",
    "            print(\"game is drawn!\")\n",
    "            break\n",
    "            \n",
    "        move2(board,2)"
   ]
  },
  {
   "cell_type": "code",
   "execution_count": 24,
   "id": "f6b4d1f4",
   "metadata": {},
   "outputs": [
    {
     "name": "stdout",
     "output_type": "stream",
     "text": [
      "enter board size3\n",
      "    1   2   3 \n",
      "   --- --- ---\n",
      "A |   |   |   | \n",
      "   --- --- ---\n",
      "B |   |   |   | \n",
      "   --- --- ---\n",
      "C |   |   |   | \n",
      "   --- --- ---\n",
      "Player 1, enter your move (e.g. 'A1'): a1\n",
      "    1   2   3 \n",
      "   --- --- ---\n",
      "A | X |   |   | \n",
      "   --- --- ---\n",
      "B |   |   |   | \n",
      "   --- --- ---\n",
      "C |   |   |   | \n",
      "   --- --- ---\n",
      "Player 2, enter your move (e.g. 'A1'): b2\n",
      "    1   2   3 \n",
      "   --- --- ---\n",
      "A | X |   |   | \n",
      "   --- --- ---\n",
      "B |   | O |   | \n",
      "   --- --- ---\n",
      "C |   |   |   | \n",
      "   --- --- ---\n",
      "Player 1, enter your move (e.g. 'A1'): a3\n",
      "    1   2   3 \n",
      "   --- --- ---\n",
      "A | X |   | X | \n",
      "   --- --- ---\n",
      "B |   | O |   | \n",
      "   --- --- ---\n",
      "C |   |   |   | \n",
      "   --- --- ---\n",
      "Player 2, enter your move (e.g. 'A1'): c2\n",
      "    1   2   3 \n",
      "   --- --- ---\n",
      "A | X |   | X | \n",
      "   --- --- ---\n",
      "B |   | O |   | \n",
      "   --- --- ---\n",
      "C |   | O |   | \n",
      "   --- --- ---\n",
      "Player 1, enter your move (e.g. 'A1'): a2\n",
      "    1   2   3 \n",
      "   --- --- ---\n",
      "A | X | X | X | \n",
      "   --- --- ---\n",
      "B |   | O |   | \n",
      "   --- --- ---\n",
      "C |   | O |   | \n",
      "   --- --- ---\n",
      "player 1 wins\n"
     ]
    }
   ],
   "source": [
    "Tic_Tac_Toe()"
   ]
  },
  {
   "cell_type": "markdown",
   "id": "e6b7bee8",
   "metadata": {},
   "source": [
    "*Exercise 10:* Test that your game works for 5x5 Tic Tac Toe.  "
   ]
  },
  {
   "cell_type": "code",
   "execution_count": 25,
   "id": "a9b72c2c",
   "metadata": {},
   "outputs": [
    {
     "name": "stdout",
     "output_type": "stream",
     "text": [
      "enter board size5\n",
      "    1   2   3   4   5 \n",
      "   --- --- --- --- ---\n",
      "A |   |   |   |   |   | \n",
      "   --- --- --- --- ---\n",
      "B |   |   |   |   |   | \n",
      "   --- --- --- --- ---\n",
      "C |   |   |   |   |   | \n",
      "   --- --- --- --- ---\n",
      "D |   |   |   |   |   | \n",
      "   --- --- --- --- ---\n",
      "E |   |   |   |   |   | \n",
      "   --- --- --- --- ---\n",
      "Player 1, enter your move (e.g. 'A1'): a1\n",
      "    1   2   3   4   5 \n",
      "   --- --- --- --- ---\n",
      "A | X |   |   |   |   | \n",
      "   --- --- --- --- ---\n",
      "B |   |   |   |   |   | \n",
      "   --- --- --- --- ---\n",
      "C |   |   |   |   |   | \n",
      "   --- --- --- --- ---\n",
      "D |   |   |   |   |   | \n",
      "   --- --- --- --- ---\n",
      "E |   |   |   |   |   | \n",
      "   --- --- --- --- ---\n",
      "Player 2, enter your move (e.g. 'A1'): a2\n",
      "    1   2   3   4   5 \n",
      "   --- --- --- --- ---\n",
      "A | X | O |   |   |   | \n",
      "   --- --- --- --- ---\n",
      "B |   |   |   |   |   | \n",
      "   --- --- --- --- ---\n",
      "C |   |   |   |   |   | \n",
      "   --- --- --- --- ---\n",
      "D |   |   |   |   |   | \n",
      "   --- --- --- --- ---\n",
      "E |   |   |   |   |   | \n",
      "   --- --- --- --- ---\n",
      "Player 1, enter your move (e.g. 'A1'): b2\n",
      "    1   2   3   4   5 \n",
      "   --- --- --- --- ---\n",
      "A | X | O |   |   |   | \n",
      "   --- --- --- --- ---\n",
      "B |   | X |   |   |   | \n",
      "   --- --- --- --- ---\n",
      "C |   |   |   |   |   | \n",
      "   --- --- --- --- ---\n",
      "D |   |   |   |   |   | \n",
      "   --- --- --- --- ---\n",
      "E |   |   |   |   |   | \n",
      "   --- --- --- --- ---\n",
      "Player 2, enter your move (e.g. 'A1'): a3\n",
      "    1   2   3   4   5 \n",
      "   --- --- --- --- ---\n",
      "A | X | O | O |   |   | \n",
      "   --- --- --- --- ---\n",
      "B |   | X |   |   |   | \n",
      "   --- --- --- --- ---\n",
      "C |   |   |   |   |   | \n",
      "   --- --- --- --- ---\n",
      "D |   |   |   |   |   | \n",
      "   --- --- --- --- ---\n",
      "E |   |   |   |   |   | \n",
      "   --- --- --- --- ---\n",
      "Player 1, enter your move (e.g. 'A1'): c3\n",
      "    1   2   3   4   5 \n",
      "   --- --- --- --- ---\n",
      "A | X | O | O |   |   | \n",
      "   --- --- --- --- ---\n",
      "B |   | X |   |   |   | \n",
      "   --- --- --- --- ---\n",
      "C |   |   | X |   |   | \n",
      "   --- --- --- --- ---\n",
      "D |   |   |   |   |   | \n",
      "   --- --- --- --- ---\n",
      "E |   |   |   |   |   | \n",
      "   --- --- --- --- ---\n",
      "Player 2, enter your move (e.g. 'A1'): a4\n",
      "    1   2   3   4   5 \n",
      "   --- --- --- --- ---\n",
      "A | X | O | O | O |   | \n",
      "   --- --- --- --- ---\n",
      "B |   | X |   |   |   | \n",
      "   --- --- --- --- ---\n",
      "C |   |   | X |   |   | \n",
      "   --- --- --- --- ---\n",
      "D |   |   |   |   |   | \n",
      "   --- --- --- --- ---\n",
      "E |   |   |   |   |   | \n",
      "   --- --- --- --- ---\n",
      "Player 1, enter your move (e.g. 'A1'): d4\n",
      "    1   2   3   4   5 \n",
      "   --- --- --- --- ---\n",
      "A | X | O | O | O |   | \n",
      "   --- --- --- --- ---\n",
      "B |   | X |   |   |   | \n",
      "   --- --- --- --- ---\n",
      "C |   |   | X |   |   | \n",
      "   --- --- --- --- ---\n",
      "D |   |   |   | X |   | \n",
      "   --- --- --- --- ---\n",
      "E |   |   |   |   |   | \n",
      "   --- --- --- --- ---\n",
      "Player 2, enter your move (e.g. 'A1'): a5\n",
      "    1   2   3   4   5 \n",
      "   --- --- --- --- ---\n",
      "A | X | O | O | O | O | \n",
      "   --- --- --- --- ---\n",
      "B |   | X |   |   |   | \n",
      "   --- --- --- --- ---\n",
      "C |   |   | X |   |   | \n",
      "   --- --- --- --- ---\n",
      "D |   |   |   | X |   | \n",
      "   --- --- --- --- ---\n",
      "E |   |   |   |   |   | \n",
      "   --- --- --- --- ---\n",
      "Player 1, enter your move (e.g. 'A1'): e5\n",
      "    1   2   3   4   5 \n",
      "   --- --- --- --- ---\n",
      "A | X | O | O | O | O | \n",
      "   --- --- --- --- ---\n",
      "B |   | X |   |   |   | \n",
      "   --- --- --- --- ---\n",
      "C |   |   | X |   |   | \n",
      "   --- --- --- --- ---\n",
      "D |   |   |   | X |   | \n",
      "   --- --- --- --- ---\n",
      "E |   |   |   |   | X | \n",
      "   --- --- --- --- ---\n",
      "player 1 wins\n"
     ]
    }
   ],
   "source": [
    "Tic_Tac_Toe()"
   ]
  },
  {
   "cell_type": "markdown",
   "id": "063f0e1a",
   "metadata": {},
   "source": [
    "*Exercise 11:* (Advanced / Challenge) Develop a version of the game where one player is the computer. Note that you don't need to do an extensive seach for the best move. You can have the computer simply protect against loosing and otherwise try to win with straight or diagonal patterns."
   ]
  },
  {
   "cell_type": "code",
   "execution_count": 27,
   "id": "09f10a73",
   "metadata": {},
   "outputs": [],
   "source": [
    "import random\n",
    "\n",
    "def make_move_auto(board, player):\n",
    "    n = len(board)\n",
    "    if player == 2:\n",
    "        \n",
    "        for i in range(n):\n",
    "            for j in range(n):\n",
    "                if board[i][j] == 0:\n",
    "                    board[i][j] = player\n",
    "                    draw_board(board)\n",
    "                    return\n",
    "\n",
    "        for i in range(n):\n",
    "            for j in range(n):\n",
    "                if board[i][j] == 1:\n",
    "                    \n",
    "                    if j > 0 and board[i][j-1] == 1:\n",
    "                        board[i][j+1] = player\n",
    "                        draw_board(board)\n",
    "                        return\n",
    "                    if j < n-1 and board[i][j+1] == 1:\n",
    "                        board[i][j-1] = player\n",
    "                        draw_board(board)\n",
    "                        return\n",
    "                    \n",
    "                    if i > 0 and board[i-1][j] == 1:\n",
    "                        board[i+1][j] = player\n",
    "                        draw_board(board)\n",
    "                        return\n",
    "                    if i < n-1 and board[i+1][j] == 1:\n",
    "                        board[i-1][j] = player\n",
    "                        draw_board(board)\n",
    "                        return\n",
    "                    \n",
    "                    if i > 0 and j > 0 and board[i-1][j-1] == 1:\n",
    "                        board[i+1][j+1] = player\n",
    "                        draw_board(board)\n",
    "                        return\n",
    "                    if i < n-1 and j < n-1 and board[i+1][j+1] == 1:\n",
    "                        board[i-1][j-1] = player\n",
    "                        draw_board(board)\n",
    "                        return\n",
    "                    if i > 0 and j < n-1 and board[i-1][j+1] == 1:\n",
    "                        board[i+1][j-1] = player\n",
    "                        draw_board(board)\n",
    "                        return\n",
    "                    if i < n-1 and j > 0 and board[i+1][j-1] == 1:\n",
    "                        board[i-1][j+1] = player\n",
    "                        draw_board(board)\n",
    "                        return\n",
    "       \n",
    "        while True:\n",
    "            i = random.randint(0, n-1)\n",
    "            j = random.randint(0, n-1)\n",
    "            if board[i][j] == 0:\n",
    "                board[i][j] = player\n",
    "                draw_board(board)\n",
    "                return\n",
    "    else:\n",
    "        \n",
    "        while True:\n",
    "            move = input(f\"Player {player}, enter your move (e.g. 'A1'): \")\n",
    "            if len(move) != 2:\n",
    "                print(\"Invalid move, try again.\")\n",
    "                continue\n",
    "            row = int(move[1]) - 1\n",
    "            if row < 0 or row >= n:\n",
    "                print(\"Invalid move, try again.\")\n",
    "                continue\n",
    "            col = ord(move[0].upper()) - ord('A')\n",
    "            if col < 0 or col >= n:\n",
    "                print(\"Invalid move, try again.\")\n",
    "                continue\n",
    "            if board[col][row] != 0:\n",
    "                print(\"This cell is already occupied, try again.\")\n",
    "                continue\n",
    "            board[col][row] = player\n",
    "            draw_board(board)\n",
    "            break\n",
    "        \n"
   ]
  },
  {
   "cell_type": "code",
   "execution_count": 28,
   "id": "d5c07946",
   "metadata": {},
   "outputs": [],
   "source": [
    "def Tic_Tac_Toe2():\n",
    "    n=int(input('enter board size'))\n",
    "    \n",
    "    \n",
    "    empty_board(n)\n",
    "    board=[]\n",
    "        \n",
    "    for j in range(n):\n",
    "        board.append([0]*n)\n",
    "    if is_space(board)==False:\n",
    "        return(status(board))\n",
    "    while is_space(board)==True:\n",
    "        make_move_auto(board,1)\n",
    "        \n",
    "        if status(board)==\"player 1 wins\":\n",
    "            print(\"player 1 wins\")\n",
    "            break\n",
    "        elif status(board)==\"player 2 wins\":\n",
    "            print(\"player 2 wins\")            \n",
    "            break\n",
    "        \n",
    "            \n",
    "        elif status(board)=='draw!':\n",
    "            print(\"game is drawn!\")\n",
    "            break\n",
    "            \n",
    "        if status(board)==\"player 1 wins\":\n",
    "            print(\"player 1 wins\")\n",
    "            break\n",
    "        elif status(board)==\"player 2 wins\":\n",
    "            print(\"player 2 wins\")            \n",
    "            break\n",
    "        \n",
    "            \n",
    "        elif status(board)=='draw!':\n",
    "            print(\"game is drawn!\")\n",
    "            break\n",
    "            \n",
    "        make_move_auto(board,2)"
   ]
  },
  {
   "cell_type": "code",
   "execution_count": 25,
   "id": "f07ae0fe",
   "metadata": {},
   "outputs": [
    {
     "name": "stdout",
     "output_type": "stream",
     "text": [
      "enter board size3\n",
      "    1   2   3 \n",
      "   --- --- ---\n",
      "A |   |   |   | \n",
      "   --- --- ---\n",
      "B |   |   |   | \n",
      "   --- --- ---\n",
      "C |   |   |   | \n",
      "   --- --- ---\n",
      "Player 1, enter your move (e.g. 'A1'): a1\n",
      "    1   2   3 \n",
      "   --- --- ---\n",
      "A | X |   |   | \n",
      "   --- --- ---\n",
      "B |   |   |   | \n",
      "   --- --- ---\n",
      "C |   |   |   | \n",
      "   --- --- ---\n",
      "    1   2   3 \n",
      "   --- --- ---\n",
      "A | X | O |   | \n",
      "   --- --- ---\n",
      "B |   |   |   | \n",
      "   --- --- ---\n",
      "C |   |   |   | \n",
      "   --- --- ---\n",
      "Player 1, enter your move (e.g. 'A1'): b2\n",
      "    1   2   3 \n",
      "   --- --- ---\n",
      "A | X | O |   | \n",
      "   --- --- ---\n",
      "B |   | X |   | \n",
      "   --- --- ---\n",
      "C |   |   |   | \n",
      "   --- --- ---\n",
      "    1   2   3 \n",
      "   --- --- ---\n",
      "A | X | O | O | \n",
      "   --- --- ---\n",
      "B |   | X |   | \n",
      "   --- --- ---\n",
      "C |   |   |   | \n",
      "   --- --- ---\n",
      "Player 1, enter your move (e.g. 'A1'): c3\n",
      "    1   2   3 \n",
      "   --- --- ---\n",
      "A | X | O | O | \n",
      "   --- --- ---\n",
      "B |   | X |   | \n",
      "   --- --- ---\n",
      "C |   |   | X | \n",
      "   --- --- ---\n",
      "player 1 wins\n"
     ]
    }
   ],
   "source": [
    "Tic_Tac_Toe2()"
   ]
  },
  {
   "cell_type": "code",
   "execution_count": 26,
   "id": "4491929f",
   "metadata": {},
   "outputs": [
    {
     "name": "stdout",
     "output_type": "stream",
     "text": [
      "enter board size3\n",
      "    1   2   3 \n",
      "   --- --- ---\n",
      "A |   |   |   | \n",
      "   --- --- ---\n",
      "B |   |   |   | \n",
      "   --- --- ---\n",
      "C |   |   |   | \n",
      "   --- --- ---\n",
      "Player 1, enter your move (e.g. 'A1'): b2\n",
      "    1   2   3 \n",
      "   --- --- ---\n",
      "A |   |   |   | \n",
      "   --- --- ---\n",
      "B |   | X |   | \n",
      "   --- --- ---\n",
      "C |   |   |   | \n",
      "   --- --- ---\n",
      "    1   2   3 \n",
      "   --- --- ---\n",
      "A | O |   |   | \n",
      "   --- --- ---\n",
      "B |   | X |   | \n",
      "   --- --- ---\n",
      "C |   |   |   | \n",
      "   --- --- ---\n",
      "Player 1, enter your move (e.g. 'A1'): a2\n",
      "    1   2   3 \n",
      "   --- --- ---\n",
      "A | O | X |   | \n",
      "   --- --- ---\n",
      "B |   | X |   | \n",
      "   --- --- ---\n",
      "C |   |   |   | \n",
      "   --- --- ---\n",
      "    1   2   3 \n",
      "   --- --- ---\n",
      "A | O | X | O | \n",
      "   --- --- ---\n",
      "B |   | X |   | \n",
      "   --- --- ---\n",
      "C |   |   |   | \n",
      "   --- --- ---\n",
      "Player 1, enter your move (e.g. 'A1'): c2\n",
      "    1   2   3 \n",
      "   --- --- ---\n",
      "A | O | X | O | \n",
      "   --- --- ---\n",
      "B |   | X |   | \n",
      "   --- --- ---\n",
      "C |   | X |   | \n",
      "   --- --- ---\n",
      "player 1 wins\n"
     ]
    }
   ],
   "source": [
    "Tic_Tac_Toe2()"
   ]
  }
 ],
 "metadata": {
  "kernelspec": {
   "display_name": "Python 3 (ipykernel)",
   "language": "python",
   "name": "python3"
  },
  "language_info": {
   "codemirror_mode": {
    "name": "ipython",
    "version": 3
   },
   "file_extension": ".py",
   "mimetype": "text/x-python",
   "name": "python",
   "nbconvert_exporter": "python",
   "pygments_lexer": "ipython3",
   "version": "3.9.13"
  }
 },
 "nbformat": 4,
 "nbformat_minor": 5
}
