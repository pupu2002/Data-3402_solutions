{
 "cells": [
  {
   "cell_type": "markdown",
   "id": "e8d290a6",
   "metadata": {},
   "source": [
    "### Uniform Distribution\n",
    "Lets start with generating some fake random data. You can get a random number between 0 and 1 using the python random module as follow:"
   ]
  },
  {
   "cell_type": "code",
   "execution_count": 1,
   "id": "1ddc16ae",
   "metadata": {},
   "outputs": [
    {
     "name": "stdout",
     "output_type": "stream",
     "text": [
      "The Value of x is 0.4221584444119929\n"
     ]
    }
   ],
   "source": [
    "import random\n",
    "x=random.random()\n",
    "print(\"The Value of x is\", x)"
   ]
  },
  {
   "cell_type": "markdown",
   "id": "eb9e8c00",
   "metadata": {},
   "source": [
    "Everytime you call random, you will get a new number.\n",
    "\n",
    "*Exercise 1:* Using random, write a function `generate_uniform(N, mymin, mymax)`, that returns a python list containing N random numbers between specified minimum and maximum value. Note that you may want to quickly work out on paper how to turn numbers between 0 and 1 to between other values. "
   ]
  },
  {
   "cell_type": "code",
   "execution_count": 2,
   "id": "c092cbbf",
   "metadata": {},
   "outputs": [],
   "source": [
    "# Skeleton\n",
    "def generate_uniform(N,x_min,x_max):\n",
    "    out = []\n",
    "    for i in range(N):\n",
    "        value = random.random()\n",
    "        scaled_value = value * (x_max - x_min) + x_min\n",
    "        out.append(scaled_value)\n",
    "    return out"
   ]
  },
  {
   "cell_type": "code",
   "execution_count": 3,
   "id": "541a3b74",
   "metadata": {},
   "outputs": [
    {
     "name": "stdout",
     "output_type": "stream",
     "text": [
      "Data Type: <class 'list'>\n",
      "Data Length: 1000\n",
      "Type of Data Contents: <class 'float'>\n",
      "Data Minimum: -9.999238081057033\n",
      "Data Maximum: 9.971674561312401\n"
     ]
    }
   ],
   "source": [
    "# Test your solution here\n",
    "data=generate_uniform(1000,-10,10)\n",
    "print (\"Data Type:\", type(data))\n",
    "print (\"Data Length:\", len(data))\n",
    "if len(data)>0: \n",
    "    print (\"Type of Data Contents:\", type(data[0]))\n",
    "    print (\"Data Minimum:\", min(data))\n",
    "    print (\"Data Maximum:\", max(data))"
   ]
  },
  {
   "cell_type": "markdown",
   "id": "4966e95d",
   "metadata": {},
   "source": [
    "*Exercise 2a:* \n",
    "Write a function that computes the mean of values in a list. Recall the equation for the mean of a random variable $\\bf{x}$ computed on a data set of $n$ values $\\{ x_i \\} = \\{x_1, x_2, ..., x_n\\}$  is ${\\bf\\bar{x}} = \\frac{1}{n} \\sum_i^n x_i$."
   ]
  },
  {
   "cell_type": "code",
   "execution_count": 4,
   "id": "9e7ca84c",
   "metadata": {},
   "outputs": [],
   "source": [
    "# Skeleton\n",
    "def mean(Data):\n",
    "    m=0.\n",
    "    \n",
    "    total = sum(Data)\n",
    "    m = total / len(Data)\n",
    "    \n",
    "    return m"
   ]
  },
  {
   "cell_type": "code",
   "execution_count": 5,
   "id": "90322bcb",
   "metadata": {},
   "outputs": [
    {
     "name": "stdout",
     "output_type": "stream",
     "text": [
      "Mean of Data: -0.0381457767569186\n"
     ]
    }
   ],
   "source": [
    "# Test your solution here\n",
    "print (\"Mean of Data:\", mean(data))"
   ]
  },
  {
   "cell_type": "markdown",
   "id": "4688fc9a",
   "metadata": {},
   "source": [
    "*Exercise 2b:* \n",
    "Write a function that computes the variance of values in a list. Recall the equation for the variance of a random variable $\\bf{x}$ computed on a data set of $n$ values $\\{ x_i \\} = \\{x_1, x_2, ..., x_n\\}$  is ${\\bf\\langle x \\rangle} = \\frac{1}{n} \\sum_i^n (x_i - {\\bf\\bar{x}})$."
   ]
  },
  {
   "cell_type": "code",
   "execution_count": 16,
   "id": "aef89e16",
   "metadata": {},
   "outputs": [],
   "source": [
    "# Skeleton\n",
    "def variance(Data):\n",
    "    m = sum((x - mean(Data)) ** 2 for x in Data) / (len(Data))\n",
    "    return m"
   ]
  },
  {
   "cell_type": "code",
   "execution_count": 17,
   "id": "c2a300f5",
   "metadata": {
    "scrolled": true
   },
   "outputs": [
    {
     "name": "stdout",
     "output_type": "stream",
     "text": [
      "Variance of Data: 32.93775118033848\n"
     ]
    }
   ],
   "source": [
    "# Test your solution here\n",
    "print (\"Variance of Data:\", variance(data))"
   ]
  },
  {
   "cell_type": "markdown",
   "id": "164de6e6",
   "metadata": {},
   "source": [
    "## Histogramming"
   ]
  },
  {
   "cell_type": "markdown",
   "id": "5a902d0f",
   "metadata": {},
   "source": [
    "*Exercise 3:* Write a function that bins the data so that you can create a histogram. An example of how to implement histogramming is the following logic:\n",
    "\n",
    "* User inputs a list of values `x` and optionally `n_bins` which defaults to 10.\n",
    "* If not supplied, find the minimum and maximum (`x_min`,`x_max`) of the values in x.\n",
    "* Determine the bin size (`bin_size`) by dividing the range of the function by the number of bins.\n",
    "* Create an empty list of zeros of size `n_bins`, call it `hist`.\n",
    "* Loop over the values in `x`\n",
    "    * Loop over the values in `hist` with index `i`:\n",
    "        * If x is between `x_min+i*bin_size` and `x_min+(i+1)*bin_size`, increment `hist[i].` \n",
    "        * For efficiency, try to use continue to goto the next bin and data point.\n",
    "* Return `hist` and the list corresponding of the bin edges (i.e. of `x_min+i*bin_size`).    "
   ]
  },
  {
   "cell_type": "code",
   "execution_count": 18,
   "id": "cae10117",
   "metadata": {},
   "outputs": [],
   "source": [
    "# Solution\n",
    "def histogram(x,n_bins=10,x_min=None,x_max=None):\n",
    "    x_min = min(x)\n",
    "    x_max = max(x)\n",
    "    bin_size = (x_max - x_min) / n_bins\n",
    "    hist = [0] * n_bins\n",
    "    bin_edges = [x_min + i*bin_size for i in range(n_bins)]\n",
    "    for j in x:\n",
    "        for i in range(n_bins):\n",
    "            if j >= bin_edges[i] and j < bin_edges[i] + bin_size:\n",
    "                hist[i] += 1\n",
    "                continue\n",
    "    return hist,bin_edges"
   ]
  },
  {
   "cell_type": "code",
   "execution_count": 19,
   "id": "1b8f383e",
   "metadata": {},
   "outputs": [
    {
     "name": "stdout",
     "output_type": "stream",
     "text": [
      "[11, 11, 9, 7, 10, 9, 10, 17, 12, 13, 11, 10, 11, 4, 6, 8, 10, 9, 11, 5, 19, 12, 8, 8, 8, 9, 5, 9, 11, 14, 11, 11, 8, 14, 10, 5, 9, 11, 10, 11, 10, 7, 15, 12, 9, 9, 8, 11, 7, 12, 15, 7, 16, 8, 9, 10, 8, 7, 8, 6, 10, 12, 11, 20, 8, 7, 7, 18, 13, 11, 8, 9, 7, 16, 8, 9, 13, 9, 5, 15, 10, 10, 4, 8, 18, 11, 9, 8, 9, 13, 7, 13, 11, 7, 10, 6, 12, 8, 8, 10]\n"
     ]
    }
   ],
   "source": [
    "# Test your solution here\n",
    "h,b=histogram(data,100)\n",
    "print(h)"
   ]
  },
  {
   "cell_type": "markdown",
   "id": "3e7d4362",
   "metadata": {},
   "source": [
    "*Exercise 4:* Write a function that uses the histogram function in the previous exercise to create a text-based \"graph\". For example the output could look like the following:\n",
    "```\n",
    "[  0,  1] : ######\n",
    "[  1,  2] : #####\n",
    "[  2,  3] : ######\n",
    "[  3,  4] : ####\n",
    "[  4,  5] : ####\n",
    "[  5,  6] : ######\n",
    "[  6,  7] : #####\n",
    "[  7,  8] : ######\n",
    "[  8,  9] : ####\n",
    "[  9, 10] : #####\n",
    "```\n",
    "\n",
    "Where each line corresponds to a bin and the number of `#`'s are proportional to the value of the data in the bin. "
   ]
  },
  {
   "cell_type": "code",
   "execution_count": 25,
   "id": "23056ec5",
   "metadata": {},
   "outputs": [],
   "source": [
    "# Solution\n",
    "def draw_histogram(x,n_bins,x_min=None,x_max=None,character=\"#\",max_character_per_line=20):\n",
    "    hist, bin_edges = histogram(data, n_bins)\n",
    "    for i in range(n_bins):\n",
    "        lower_edge = bin_edges[i]\n",
    "        upper_edge = bin_edges[i+1] if i < n_bins-1 else bin_edges[i]+(bin_edges[i]-bin_edges[i-1])\n",
    "        print(\"[{:>2}, {:<2}] : {}\".format(int(lower_edge), int(upper_edge), \"#\" * hist[i]))\n"
   ]
  },
  {
   "cell_type": "code",
   "execution_count": 26,
   "id": "a05488a6",
   "metadata": {},
   "outputs": [
    {
     "name": "stdout",
     "output_type": "stream",
     "text": [
      "[-9, -9] : ################################################\n",
      "[-9, -8] : #############################################################\n",
      "[-8, -7] : ##########################################\n",
      "[-7, -6] : ###########################################\n",
      "[-6, -5] : #######################################################\n",
      "[-5, -4] : ################################################\n",
      "[-4, -3] : ######################################################\n",
      "[-3, -2] : ##############################################\n",
      "[-2, -1] : #####################################################\n",
      "[-1, 0 ] : ###############################################\n",
      "[ 0, 0 ] : #######################################################\n",
      "[ 0, 1 ] : #######################################\n",
      "[ 1, 2 ] : #############################################################\n",
      "[ 2, 3 ] : ########################################################\n",
      "[ 3, 4 ] : ################################################\n",
      "[ 4, 5 ] : ###################################################\n",
      "[ 5, 6 ] : ##################################################\n",
      "[ 6, 7 ] : ##################################################\n",
      "[ 7, 8 ] : ################################################\n",
      "[ 8, 9 ] : ############################################\n"
     ]
    }
   ],
   "source": [
    "# Test your solution here\n",
    "h,b=histogram(data,20)\n",
    "draw_histogram(data,20)"
   ]
  },
  {
   "cell_type": "markdown",
   "id": "f1edcf38",
   "metadata": {},
   "source": [
    "## Functional Programming\n",
    "\n",
    "*Exercise 5:* Write a function the applies a booling function (that returns true/false) to every element in data, and return a list of indices of elements where the result was true. Use this function to find the indices of entries greater than 0.5. "
   ]
  },
  {
   "cell_type": "code",
   "execution_count": 27,
   "id": "e1ea169c",
   "metadata": {},
   "outputs": [],
   "source": [
    "def where(mylist,myfunc):\n",
    "    out= []\n",
    "    for i, value in enumerate(mylist):\n",
    "        if myfunc(value):\n",
    "            out.append(i)\n",
    "    return out\n",
    "\n",
    "def greater_than_half(value):\n",
    "    return value > 0.5"
   ]
  },
  {
   "cell_type": "code",
   "execution_count": 30,
   "id": "63c486b2",
   "metadata": {},
   "outputs": [
    {
     "name": "stdout",
     "output_type": "stream",
     "text": [
      "[3, 4]\n"
     ]
    }
   ],
   "source": [
    "# Test your solution here\n",
    "k = [0.5, 0.2, 0.1, 0.9, 0.8, 0.1]\n",
    "true_indices = where(k, greater_than_half)\n",
    "print(true_indices)"
   ]
  },
  {
   "cell_type": "markdown",
   "id": "0290bc12",
   "metadata": {},
   "source": [
    "*Exercise 6:* The inrange(mymin,mymax) function below returns a function that tests if it's input is between the specified values. Write corresponding functions that test:\n",
    "* Even\n",
    "* Odd\n",
    "* Greater than\n",
    "* Less than\n",
    "* Equal\n",
    "* Divisible by"
   ]
  },
  {
   "cell_type": "code",
   "execution_count": 32,
   "id": "b43afb38",
   "metadata": {},
   "outputs": [
    {
     "name": "stdout",
     "output_type": "stream",
     "text": [
      "True True False False False\n",
      "False False True True False\n",
      "Number of Entries passing F1: 502\n",
      "Number of Entries passing F2: 0\n"
     ]
    }
   ],
   "source": [
    "def inrange(mymin,mymax):\n",
    "    def testrange(x):\n",
    "        return x<mymax and x>=mymin\n",
    "    return testrange\n",
    "\n",
    "# Examples:\n",
    "F1=inrange(0,10)\n",
    "F2=inrange(10,20)\n",
    "\n",
    "# Test of in_range\n",
    "print (F1(0), F1(1), F1(10), F1(15), F1(20))\n",
    "print (F2(0), F2(1), F2(10), F2(15), F2(20))\n",
    "\n",
    "print (\"Number of Entries passing F1:\", len(where(data,F1)))\n",
    "print (\"Number of Entries passing F2:\", len(where(data,F2)))"
   ]
  },
  {
   "cell_type": "code",
   "execution_count": 33,
   "id": "8cc1f450",
   "metadata": {},
   "outputs": [],
   "source": [
    "### BEGIN SOLUTION\n",
    "\n",
    "def is_even(num):\n",
    "    return num % 2 == 0\n",
    "def is_odd(num):\n",
    "    return num % 2 != 0\n",
    "def is_greater_than(num, limit):\n",
    "    return num > limit\n",
    "def is_less_than(num, limit):\n",
    "    return num < limit\n",
    "def is_equal_to(num, value):\n",
    "    return num == value\n",
    "def is_divisible_by(num, divisor):\n",
    "    return num % divisor == 0\n",
    "      \n",
    "    \n",
    "### END SOLUTION"
   ]
  },
  {
   "cell_type": "code",
   "execution_count": 41,
   "id": "11c6b7a9",
   "metadata": {},
   "outputs": [
    {
     "name": "stdout",
     "output_type": "stream",
     "text": [
      "True False True False False False\n"
     ]
    }
   ],
   "source": [
    "# Test your solution\n",
    "print(is_even(26),is_odd(38),is_greater_than(35,26),is_less_than(35,26),is_equal_to(35,26),is_divisible_by(35,26))"
   ]
  },
  {
   "cell_type": "markdown",
   "id": "946c6557",
   "metadata": {},
   "source": [
    "*Exercise 7:* Repeat the previous exercise using `lambda` and the built-in python functions sum and map instead of your solution above. "
   ]
  },
  {
   "cell_type": "code",
   "execution_count": 44,
   "id": "4c979123",
   "metadata": {},
   "outputs": [],
   "source": [
    "### BEGIN SOLUTION\n",
    "\n",
    "is_even = lambda num: num % 2 == 0\n",
    "is_odd = lambda num: num % 2 != 0\n",
    "is_greater_than = lambda num, limit: num > limit\n",
    "is_less_than = lambda num, limit: num < limit\n",
    "is_equal_to = lambda num, value: num == value\n",
    "is_div_by = lambda num, divisor: num % divisor == 0\n",
    "    \n",
    "### END SOLUTION"
   ]
  },
  {
   "cell_type": "code",
   "execution_count": 45,
   "id": "5485ab71",
   "metadata": {},
   "outputs": [
    {
     "data": {
      "text/plain": [
       "True"
      ]
     },
     "execution_count": 45,
     "metadata": {},
     "output_type": "execute_result"
    }
   ],
   "source": [
    "is_div_by(21,7)"
   ]
  },
  {
   "cell_type": "markdown",
   "id": "8d4b5932",
   "metadata": {},
   "source": [
    "## Monte Carlo\n",
    "\n",
    "*Exercise 7:* Write a \"generator\" function called `generate_function(func,x_min,x_max,N)`, that instead of generating a flat distribution, generates a distribution with functional form coded in `func`. Note that `func` will always be > 0.  \n",
    "\n",
    "Use the test function below and your histogramming functions above to demonstrate that your generator is working properly.\n",
    "\n",
    "Hint: A simple, but slow, solution is to a draw random number test_x within the specified range and another number p between the min and max of the function (which you will have to determine). If p<=function(test_x), then place test_x on the output. If not, repeat the process, drawing two new numbers. Repeat until you have the specified number of generated numbers, N. For this problem, it's OK to determine the min and max by numerically sampling the function.  "
   ]
  },
  {
   "cell_type": "code",
   "execution_count": 77,
   "id": "8d29ae35",
   "metadata": {},
   "outputs": [],
   "source": [
    "def generate_function(func,x_min,x_max,N=1000):\n",
    "    out = list()\n",
    "    \n",
    "    x_range = x_max - x_min\n",
    "    \n",
    "    p_min = p_max = func(x_min)\n",
    "    for i in range(10000):\n",
    "        x = x_min + random.uniform(0, 1) * x_range\n",
    "        p = func(x)\n",
    "        if p < p_min:\n",
    "            p_min = p\n",
    "        elif p > p_max:\n",
    "            p_max = p\n",
    "    \n",
    "    \n",
    "    while len(out) < N:\n",
    "        test_x = random.uniform(x_min, x_max)\n",
    "        test_p = random.uniform(p_min, p_max)\n",
    "        if test_p <= func(test_x):\n",
    "            out.append(test_x)\n",
    "    \n",
    "    return out"
   ]
  },
  {
   "cell_type": "code",
   "execution_count": 78,
   "id": "6ac54f58",
   "metadata": {},
   "outputs": [],
   "source": [
    "# A test function\n",
    "def test_func(x,a=1,b=1):\n",
    "    return abs(a*x+b)"
   ]
  },
  {
   "cell_type": "code",
   "execution_count": 82,
   "id": "9480d0ce",
   "metadata": {},
   "outputs": [
    {
     "name": "stdout",
     "output_type": "stream",
     "text": [
      "[-9, -9] : ################################################\n",
      "[-9, -8] : #############################################################\n",
      "[-8, -7] : ##########################################\n",
      "[-7, -6] : ###########################################\n",
      "[-6, -5] : #######################################################\n",
      "[-5, -4] : ################################################\n",
      "[-4, -3] : ######################################################\n",
      "[-3, -2] : ##############################################\n",
      "[-2, -1] : #####################################################\n",
      "[-1, 0 ] : ###############################################\n",
      "[ 0, 0 ] : #######################################################\n",
      "[ 0, 1 ] : #######################################\n",
      "[ 1, 2 ] : #############################################################\n",
      "[ 2, 3 ] : ########################################################\n",
      "[ 3, 4 ] : ################################################\n",
      "[ 4, 5 ] : ###################################################\n",
      "[ 5, 6 ] : ##################################################\n",
      "[ 6, 7 ] : ##################################################\n",
      "[ 7, 8 ] : ################################################\n",
      "[ 8, 9 ] : ############################################\n"
     ]
    }
   ],
   "source": [
    "#draw_histogram(data,20)\n",
    "\n",
    "d=generate_function(test_func,-5,5)\n",
    "h, b = histogram(d, 20)\n",
    "draw_histogram(d,20)"
   ]
  },
  {
   "cell_type": "markdown",
   "id": "f04611de",
   "metadata": {},
   "source": [
    "*Exercise 8:* Use your function to generate 1000 numbers that are normal distributed, using the `gaussian` function below. Confirm the mean and variance of the data is close to the mean and variance you specify when building the Gaussian. Histogram the data. "
   ]
  },
  {
   "cell_type": "code",
   "execution_count": 58,
   "id": "960a1cf1",
   "metadata": {},
   "outputs": [
    {
     "name": "stdout",
     "output_type": "stream",
     "text": [
      "[-9, -9] : ######################\n",
      "[-9, -9] : ################\n",
      "[-9, -8] : ###################\n",
      "[-8, -8] : ###########################\n",
      "[-8, -8] : #########################\n",
      "[-8, -7] : #####################\n",
      "[-7, -7] : ###############\n",
      "[-7, -6] : ##############\n",
      "[-6, -6] : ###################\n",
      "[-6, -6] : ################\n",
      "[-6, -5] : ###############################\n",
      "[-5, -5] : ################\n",
      "[-5, -4] : #################\n",
      "[-4, -4] : ##############\n",
      "[-4, -4] : #########################\n",
      "[-4, -3] : ######################\n",
      "[-3, -3] : ######################\n",
      "[-3, -2] : ###############\n",
      "[-2, -2] : ####################\n",
      "[-2, -2] : #####################\n",
      "[-2, -1] : #################\n",
      "[-1, -1] : ###########################\n",
      "[-1, 0 ] : ##################\n",
      "[ 0, 0 ] : ###################\n",
      "[ 0, 0 ] : ###################\n",
      "[ 0, 0 ] : ######################\n",
      "[ 0, 0 ] : ########################\n",
      "[ 0, 1 ] : ###################\n",
      "[ 1, 1 ] : ###############\n",
      "[ 1, 1 ] : ##############\n",
      "[ 1, 2 ] : ######################\n",
      "[ 2, 2 ] : ###############################\n",
      "[ 2, 3 ] : ###############\n",
      "[ 3, 3 ] : #########################\n",
      "[ 3, 3 ] : ########################\n",
      "[ 3, 4 ] : #################\n",
      "[ 4, 4 ] : #######################\n",
      "[ 4, 5 ] : #################\n",
      "[ 5, 5 ] : ######################\n",
      "[ 5, 5 ] : ####################\n",
      "[ 5, 6 ] : ####################\n",
      "[ 6, 6 ] : ############\n",
      "[ 6, 7 ] : #############################\n",
      "[ 7, 7 ] : #################\n",
      "[ 7, 7 ] : ######################\n",
      "[ 7, 8 ] : ####################\n",
      "[ 8, 8 ] : ##################\n",
      "[ 8, 9 ] : ################\n",
      "[ 9, 9 ] : ####################\n",
      "[ 9, 9 ] : ##################\n"
     ]
    }
   ],
   "source": [
    "import math\n",
    "\n",
    "def gaussian(mean, sigma):\n",
    "    def f(x):\n",
    "        return math.exp(-((x-mean)**2)/(2*sigma**2))/math.sqrt(math.pi*sigma)\n",
    "    return f\n",
    "\n",
    "# Example Instantiation\n",
    "g1=gaussian(0,1)\n",
    "g2=gaussian(10,3)\n",
    "samples = generate_function(g1, -5, 5, 10000)\n",
    "h, b = histogram(samples, 50)\n",
    "draw_histogram(samples,50)\n"
   ]
  },
  {
   "cell_type": "markdown",
   "id": "748df5ff",
   "metadata": {},
   "source": [
    "*Exercise 9:* Combine your `generate_function`, `where`, and `in_range` functions above to create an integrate function. Use your integrate function to show that approximately 68% of Normal distribution is within one variance."
   ]
  },
  {
   "cell_type": "code",
   "execution_count": 65,
   "id": "e042a635",
   "metadata": {},
   "outputs": [],
   "source": [
    "def integrate(func, x_min, x_max, N=10000):\n",
    "    in_range = lambda x: x_min <= x <= x_max\n",
    "    x_values = generate_function(func, x_min, x_max, N)\n",
    "    y_values = map(func, x_values)\n",
    "    area = sum(y_values) * (x_max - x_min) / float(N)\n",
    "    count = len(list(filter(in_range, x_values)))\n",
    "    integral = area * count / float(N)\n",
    "    return integral"
   ]
  },
  {
   "cell_type": "code",
   "execution_count": 69,
   "id": "132f854f",
   "metadata": {},
   "outputs": [
    {
     "name": "stdout",
     "output_type": "stream",
     "text": [
      "Proportion within one standard deviation: 0.6828240474959013\n"
     ]
    }
   ],
   "source": [
    "from math import exp, sqrt, pi\n",
    "\n",
    "def gaussian(x):\n",
    "    return exp(-x**2/2)/sqrt(2*pi)\n",
    "\n",
    "integral = integrate(gaussian, -1, 1, 100000)\n",
    "print(\"Proportion within one standard deviation:\", integral)\n"
   ]
  },
  {
   "cell_type": "code",
   "execution_count": null,
   "id": "a2db836d",
   "metadata": {},
   "outputs": [],
   "source": []
  }
 ],
 "metadata": {
  "kernelspec": {
   "display_name": "Python 3 (ipykernel)",
   "language": "python",
   "name": "python3"
  },
  "language_info": {
   "codemirror_mode": {
    "name": "ipython",
    "version": 3
   },
   "file_extension": ".py",
   "mimetype": "text/x-python",
   "name": "python",
   "nbconvert_exporter": "python",
   "pygments_lexer": "ipython3",
   "version": "3.9.13"
  }
 },
 "nbformat": 4,
 "nbformat_minor": 5
}
