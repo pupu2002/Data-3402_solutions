{
 "cells": [
  {
   "cell_type": "markdown",
   "id": "2a3416b2",
   "metadata": {},
   "source": [
    "# Lab 3- Object Oriented Programming\n",
    "\n",
    "For all of the exercises below, make sure you provide tests of your solutions.\n"
   ]
  },
  {
   "cell_type": "markdown",
   "id": "b4268605",
   "metadata": {},
   "source": [
    "1. Write a \"counter\" class that can be incremented up to a specified maximum value, will print an error if an attempt is made to increment beyond that value, and allows reseting the counter. "
   ]
  },
  {
   "cell_type": "code",
   "execution_count": 39,
   "id": "61d095bb",
   "metadata": {},
   "outputs": [],
   "source": [
    "class counter:\n",
    "    def __init__(self, max_value):\n",
    "        self.max_value = max_value\n",
    "        self.current_value = 0\n",
    "    \n",
    "    def increment(self):\n",
    "        if self.current_value < self.max_value:\n",
    "            self.current_value += 1\n",
    "        else:\n",
    "            return \"Error: counter cannot be incremented beyond max value\", self.max_value\n",
    "    \n",
    "    def reset(self):\n",
    "        self.current_value = 0\n"
   ]
  },
  {
   "cell_type": "code",
   "execution_count": 40,
   "id": "99661df3",
   "metadata": {},
   "outputs": [],
   "source": [
    "a=counter(5)"
   ]
  },
  {
   "cell_type": "code",
   "execution_count": 46,
   "id": "5d78f066",
   "metadata": {
    "scrolled": true
   },
   "outputs": [
    {
     "name": "stdout",
     "output_type": "stream",
     "text": [
      "('Error: counter cannot be incremented beyond max value', 5)\n"
     ]
    }
   ],
   "source": [
    "print(a.increment())"
   ]
  },
  {
   "cell_type": "code",
   "execution_count": 32,
   "id": "2b98fc1c",
   "metadata": {},
   "outputs": [],
   "source": [
    "a.reset()"
   ]
  },
  {
   "cell_type": "markdown",
   "id": "2b54ea8f",
   "metadata": {},
   "source": [
    "2. Copy and paste your solution to question 1 and modify it so that all the data held by the counter is private. Implement functions to check the value of the counter, check the maximum value, and check if the counter is at the maximum."
   ]
  },
  {
   "cell_type": "code",
   "execution_count": 48,
   "id": "74a11bb0",
   "metadata": {},
   "outputs": [],
   "source": [
    "class counter:\n",
    "    def __init__(self, max_value):\n",
    "        self.__max_value = max_value\n",
    "        self.__current_value = 0\n",
    "    \n",
    "    def increment(self):\n",
    "        if self.__current_value < self.__max_value:\n",
    "            self.__current_value += 1\n",
    "        else:\n",
    "            return \"Error: counter cannot be incremented beyond max value\"\n",
    "    \n",
    "    def reset(self):\n",
    "        self.__current_value = 0\n",
    "    def get_value(self):\n",
    "        return self.__current_value\n",
    "    \n",
    "    def get_max_value(self):\n",
    "        return self.__max_value\n",
    "    \n",
    "    def is_at_max(self):\n",
    "        return self.__current_value == self.__max_value"
   ]
  },
  {
   "cell_type": "markdown",
   "id": "ae784108",
   "metadata": {},
   "source": [
    "3. Implement a class to represent a rectangle, holding the length, width, and $x$ and $y$ coordinates of a corner of the object. Implement functions that compute the area and perimeter of the rectangle. Make all data members private and privide accessors to retrieve values of data members. "
   ]
  },
  {
   "cell_type": "code",
   "execution_count": 49,
   "id": "dc67b16d",
   "metadata": {},
   "outputs": [],
   "source": [
    "class rectangle:\n",
    "    def __init__(self, x, y, length, width):\n",
    "        self.__x = x\n",
    "        self.__y = y\n",
    "        self.__length = length\n",
    "        self.__width = width\n",
    "    \n",
    "    def get_x(self):\n",
    "        return self.__x\n",
    "    \n",
    "    def get_y(self):\n",
    "        return self.__y\n",
    "    \n",
    "    def get_length(self):\n",
    "        return self.__length\n",
    "    \n",
    "    def get_width(self):\n",
    "        return self.__width\n",
    "    \n",
    "    def area(self):\n",
    "        return self.__length * self.__width\n",
    "    \n",
    "    def perimeter(self):\n",
    "        return 2 * (self.__length + self.__width)\n"
   ]
  },
  {
   "cell_type": "code",
   "execution_count": 54,
   "id": "8f9dc6c2",
   "metadata": {},
   "outputs": [
    {
     "data": {
      "text/plain": [
       "6"
      ]
     },
     "execution_count": 54,
     "metadata": {},
     "output_type": "execute_result"
    }
   ],
   "source": [
    "r=rectangle(0,0,3,2)\n",
    "r.area()\n"
   ]
  },
  {
   "cell_type": "code",
   "execution_count": 55,
   "id": "2f257bad",
   "metadata": {},
   "outputs": [
    {
     "data": {
      "text/plain": [
       "10"
      ]
     },
     "execution_count": 55,
     "metadata": {},
     "output_type": "execute_result"
    }
   ],
   "source": [
    "r.perimeter()"
   ]
  },
  {
   "cell_type": "markdown",
   "id": "da706d43",
   "metadata": {},
   "source": [
    "4. Implement a class to represent a circle, holding the radius and $x$ and $y$ coordinates of center of the object. Implement functions that compute the area and perimeter of the circle. Make all data members private and privide accessors to retrieve values of data members. "
   ]
  },
  {
   "cell_type": "code",
   "execution_count": 58,
   "id": "92b44d8d",
   "metadata": {},
   "outputs": [],
   "source": [
    "import math as m\n",
    "class circle:\n",
    "    \n",
    "    def __init__(self, x, y, radius):\n",
    "        self.__x = x\n",
    "        self.__y = y\n",
    "        self.__radius = radius\n",
    "    \n",
    "    def get_x(self):\n",
    "        return self.__x\n",
    "    \n",
    "    def get_y(self):\n",
    "        return self.__y\n",
    "    \n",
    "    def get_radius(self):\n",
    "        return self.__radius\n",
    "    \n",
    "    def area(self):\n",
    "        return m.pi * (self.__radius ** 2)\n",
    "    \n",
    "    def circumference(self):\n",
    "        return 2 * m.pi * self.__radius\n"
   ]
  },
  {
   "cell_type": "code",
   "execution_count": 59,
   "id": "c6198456",
   "metadata": {},
   "outputs": [
    {
     "data": {
      "text/plain": [
       "50.26548245743669"
      ]
     },
     "execution_count": 59,
     "metadata": {},
     "output_type": "execute_result"
    }
   ],
   "source": [
    "c=circle(0,0,4)\n",
    "c.area()"
   ]
  },
  {
   "cell_type": "code",
   "execution_count": 60,
   "id": "debd32dd",
   "metadata": {},
   "outputs": [
    {
     "data": {
      "text/plain": [
       "25.132741228718345"
      ]
     },
     "execution_count": 60,
     "metadata": {},
     "output_type": "execute_result"
    }
   ],
   "source": [
    "c.circumference()"
   ]
  },
  {
   "cell_type": "markdown",
   "id": "6ac7737d",
   "metadata": {},
   "source": [
    "5. Implement a common base class for the classes implemented in 3 and 4 above which implements all common methods as not implemented functions (virtual). Re-implement those classes to inherit from the base class and overload the functions accordingly. "
   ]
  },
  {
   "cell_type": "code",
   "execution_count": 104,
   "id": "c70fa3c5",
   "metadata": {},
   "outputs": [],
   "source": [
    "import math\n",
    "\n",
    "class Shape:\n",
    "    def __init__(self, x, y):\n",
    "        self.__x = x\n",
    "        self.__y = y\n",
    "        \n",
    "    def get_x(self):\n",
    "        return self.__x\n",
    "    \n",
    "    def get_y(self):\n",
    "        return self.__y\n",
    "    \n",
    "    def set_x(self, x):\n",
    "        self.__x = x\n",
    "        \n",
    "    def set_y(self, y):\n",
    "        self.__y = y\n",
    "\n",
    "class Rectangle(Shape):\n",
    "    def __init__(self, x, y, length, width):\n",
    "        super().__init__(x, y)\n",
    "        self.__length = length\n",
    "        self.__width = width\n",
    "    \n",
    "    def get_length(self):\n",
    "        return self.__length\n",
    "    \n",
    "    def get_width(self):\n",
    "        return self.__width\n",
    "        \n",
    "    def get_area(self):\n",
    "        return self.__length * self.__width\n",
    "    \n",
    "    def get_perimeter(self):\n",
    "        return 2 * (self.__length + self.__width)\n",
    "    \n",
    "class Circle(Shape):\n",
    "    def __init__(self, x, y, radius):\n",
    "        super().__init__(x, y)\n",
    "        self.__radius = radius\n",
    "    \n",
    "    def get_radius(self):\n",
    "        return self.__radius\n",
    "        \n",
    "    def get_area(self):\n",
    "        return math.pi * self.__radius ** 2\n",
    "    \n",
    "    def get_perimeter(self):\n",
    "        return 2 * math.pi * self.__radius\n"
   ]
  },
  {
   "cell_type": "markdown",
   "id": "a44dfc25",
   "metadata": {},
   "source": [
    "6. Implement an analogous triangle class."
   ]
  },
  {
   "cell_type": "code",
   "execution_count": 61,
   "id": "13c4fee5",
   "metadata": {},
   "outputs": [],
   "source": [
    "class triangle:\n",
    "    def __init__(self, x1, y1, x2, y2, x3, y3):\n",
    "        self.__x1 = x1\n",
    "        self.__y1 = y1\n",
    "        self.__x2 = x2\n",
    "        self.__y2 = y2\n",
    "        self.__x3 = x3\n",
    "        self.__y3 = y3\n",
    "    \n",
    "    def get_x1(self):\n",
    "        return self.__x1\n",
    "    \n",
    "    def get_y1(self):\n",
    "        return self.__y1\n",
    "    \n",
    "    def get_x2(self):\n",
    "        return self.__x2\n",
    "    \n",
    "    def get_y2(self):\n",
    "        return self.__y2\n",
    "    \n",
    "    def get_x3(self):\n",
    "        return self.__x3\n",
    "    \n",
    "    def get_y3(self):\n",
    "        return self.__y3\n",
    "    \n",
    "    def side_a(self):\n",
    "        return ((self.__x2 - self.__x1) ** 2 + (self.__y2 - self.__y1) ** 2) ** 0.5\n",
    "    \n",
    "    def side_b(self):\n",
    "        return ((self.__x3 - self.__x2) ** 2 + (self.__y3 - self.__y2) ** 2) ** 0.5\n",
    "    \n",
    "    def side_c(self):\n",
    "        return ((self.__x3 - self.__x1) ** 2 + (self.__y3 - self.__y1) ** 2) ** 0.5\n",
    "    \n",
    "    def perimeter(self):\n",
    "        return self.side_a() + self.side_b() + self.side_c()\n",
    "    \n",
    "    def area(self):\n",
    "        s = self.perimeter() / 2\n",
    "        return (s * (s - self.side_a()) * (s - self.side_b()) * (s - self.side_c())) ** 0.5\n"
   ]
  },
  {
   "cell_type": "code",
   "execution_count": 78,
   "id": "59a9de77",
   "metadata": {},
   "outputs": [
    {
     "data": {
      "text/plain": [
       "3.0"
      ]
     },
     "execution_count": 78,
     "metadata": {},
     "output_type": "execute_result"
    }
   ],
   "source": [
    "t=triangle(0,0,3,0,0,4)\n",
    "t.side_a()"
   ]
  },
  {
   "cell_type": "code",
   "execution_count": 79,
   "id": "b2f7e41c",
   "metadata": {},
   "outputs": [
    {
     "data": {
      "text/plain": [
       "5.0"
      ]
     },
     "execution_count": 79,
     "metadata": {},
     "output_type": "execute_result"
    }
   ],
   "source": [
    "t.side_b()"
   ]
  },
  {
   "cell_type": "code",
   "execution_count": 80,
   "id": "b647e621",
   "metadata": {},
   "outputs": [
    {
     "data": {
      "text/plain": [
       "4.0"
      ]
     },
     "execution_count": 80,
     "metadata": {},
     "output_type": "execute_result"
    }
   ],
   "source": [
    "t.side_c()"
   ]
  },
  {
   "cell_type": "code",
   "execution_count": 81,
   "id": "b19f0628",
   "metadata": {},
   "outputs": [
    {
     "data": {
      "text/plain": [
       "12.0"
      ]
     },
     "execution_count": 81,
     "metadata": {},
     "output_type": "execute_result"
    }
   ],
   "source": [
    "t.perimeter()"
   ]
  },
  {
   "cell_type": "code",
   "execution_count": 82,
   "id": "22b8dd69",
   "metadata": {},
   "outputs": [
    {
     "data": {
      "text/plain": [
       "6.0"
      ]
     },
     "execution_count": 82,
     "metadata": {},
     "output_type": "execute_result"
    }
   ],
   "source": [
    "t.area()"
   ]
  },
  {
   "cell_type": "markdown",
   "id": "69576ef5",
   "metadata": {},
   "source": [
    "7. Add a function to the object classes that tests if a given set of $x$ and $y$ coordinates are inside of the object."
   ]
  },
  {
   "cell_type": "code",
   "execution_count": 89,
   "id": "60c6da32",
   "metadata": {},
   "outputs": [],
   "source": [
    "class rectangle:\n",
    "    def __init__(self, x, y, length, width):\n",
    "        self.__x1 = x\n",
    "        self.__y1 = y\n",
    "        self.__x2 = x + width\n",
    "        self.__y2 = y + length\n",
    "        self.__length=length\n",
    "        self.__width= width\n",
    "        \n",
    "    def get_x1(self):\n",
    "        return self.__x1\n",
    "    \n",
    "    def get_y1(self):\n",
    "        return self.__y1\n",
    "    \n",
    "    def get_x2(self):\n",
    "        return self.__x2\n",
    "    \n",
    "    def get_y2(self):\n",
    "        return self.__y2\n",
    "    \n",
    "    def get_length(self):\n",
    "        return self.__length\n",
    "    \n",
    "    def get_width(self):\n",
    "        return self.__width\n",
    "    \n",
    "    def area(self):\n",
    "        return self.__length * self.__width\n",
    "    \n",
    "    def perimeter(self):\n",
    "        return 2 * (self.__length + self.__width)\n",
    "    \n",
    "    def is_inside(self, x, y):\n",
    "        return (self.__x1 <= x <= self.__x2) and (self.__y1 <= y <= self.__y2)"
   ]
  },
  {
   "cell_type": "code",
   "execution_count": 91,
   "id": "c39c2f60",
   "metadata": {},
   "outputs": [
    {
     "data": {
      "text/plain": [
       "False"
      ]
     },
     "execution_count": 91,
     "metadata": {},
     "output_type": "execute_result"
    }
   ],
   "source": [
    "r=rectangle(0,0,3,2)\n",
    "r.is_inside(4,1)"
   ]
  },
  {
   "cell_type": "code",
   "execution_count": 92,
   "id": "89c99269",
   "metadata": {},
   "outputs": [],
   "source": [
    "import math as m\n",
    "class circle:\n",
    "    \n",
    "    def __init__(self, x, y, radius):\n",
    "        self.__x = x\n",
    "        self.__y = y\n",
    "        self.__radius = radius\n",
    "    \n",
    "    def get_x(self):\n",
    "        return self.__x\n",
    "    \n",
    "    def get_y(self):\n",
    "        return self.__y\n",
    "    \n",
    "    def get_radius(self):\n",
    "        return self.__radius\n",
    "    \n",
    "    def area(self):\n",
    "        return m.pi * (self.__radius ** 2)\n",
    "    \n",
    "    def circumference(self):\n",
    "        return 2 * m.pi * self.__radius\n",
    "    \n",
    "    def is_inside(self, x, y):\n",
    "        distance_squared = (x - self.__x) ** 2 + (y - self.__y) ** 2\n",
    "        return distance_squared <= self.__radius ** 2"
   ]
  },
  {
   "cell_type": "code",
   "execution_count": 98,
   "id": "7a6d52fc",
   "metadata": {},
   "outputs": [
    {
     "data": {
      "text/plain": [
       "False"
      ]
     },
     "execution_count": 98,
     "metadata": {},
     "output_type": "execute_result"
    }
   ],
   "source": [
    "c=circle(0,0,4)\n",
    "c.is_inside(5,2)"
   ]
  },
  {
   "cell_type": "code",
   "execution_count": 99,
   "id": "b3fdbed9",
   "metadata": {},
   "outputs": [],
   "source": [
    "class triangle:\n",
    "    def __init__(self, x1, y1, x2, y2, x3, y3):\n",
    "        self.__x1 = x1\n",
    "        self.__y1 = y1\n",
    "        self.__x2 = x2\n",
    "        self.__y2 = y2\n",
    "        self.__x3 = x3\n",
    "        self.__y3 = y3\n",
    "    \n",
    "    def get_x1(self):\n",
    "        return self.__x1\n",
    "    \n",
    "    def get_y1(self):\n",
    "        return self.__y1\n",
    "    \n",
    "    def get_x2(self):\n",
    "        return self.__x2\n",
    "    \n",
    "    def get_y2(self):\n",
    "        return self.__y2\n",
    "    \n",
    "    def get_x3(self):\n",
    "        return self.__x3\n",
    "    \n",
    "    def get_y3(self):\n",
    "        return self.__y3\n",
    "    \n",
    "    def side_a(self):\n",
    "        return ((self.__x2 - self.__x1) ** 2 + (self.__y2 - self.__y1) ** 2) ** 0.5\n",
    "    \n",
    "    def side_b(self):\n",
    "        return ((self.__x3 - self.__x2) ** 2 + (self.__y3 - self.__y2) ** 2) ** 0.5\n",
    "    \n",
    "    def side_c(self):\n",
    "        return ((self.__x3 - self.__x1) ** 2 + (self.__y3 - self.__y1) ** 2) ** 0.5\n",
    "    \n",
    "    def perimeter(self):\n",
    "        return self.side_a() + self.side_b() + self.side_c()\n",
    "    \n",
    "    def area(self):\n",
    "        s = self.perimeter() / 2\n",
    "        return (s * (s - self.side_a()) * (s - self.side_b()) * (s - self.side_c())) ** 0.5\n",
    "    \n",
    "    def is_inside(self, x, y):\n",
    "        a = self.area()\n",
    "        a1 = triangle(x, y, self.__x2, self.__y2, self.__x3, self.__y3).area()\n",
    "        a2 = triangle(self.__x1, self.__y1, x, y, self.__x3, self.__y3).area()\n",
    "        a3 = triangle(self.__x1, self.__y1, self.__x2, self.__y2, x, y).area()\n",
    "\n",
    "        return abs(a - (a1 + a2 + a3)) < 0.0001"
   ]
  },
  {
   "cell_type": "code",
   "execution_count": 103,
   "id": "92f8f0b5",
   "metadata": {},
   "outputs": [
    {
     "data": {
      "text/plain": [
       "False"
      ]
     },
     "execution_count": 103,
     "metadata": {},
     "output_type": "execute_result"
    }
   ],
   "source": [
    "t=triangle(0,0,3,0,0,4)\n",
    "t.is_inside(3,2)"
   ]
  },
  {
   "cell_type": "markdown",
   "id": "6a84b958",
   "metadata": {},
   "source": [
    "8. Add a function to the object classes that return a list of up to 16 pairs of  $x$ and $y$ points on the parameter of the object.\n",
    "\n"
   ]
  },
  {
   "cell_type": "code",
   "execution_count": null,
   "id": "cbbe54b8",
   "metadata": {},
   "outputs": [],
   "source": [
    "    def get_parameter_points(self):\n",
    "        points = []\n",
    "        n = min(16, int(math.ceil((self.__length + self.__width) * 2)))\n",
    "        delta = 1.0 / n\n",
    "        \n",
    "        for i in range(n):\n",
    "            t = i * delta\n",
    "            x = self.__x1 + t * self.__length if i < n / 2 else self.__x1 + self.__length\n",
    "            y = self.__y1 if i < n / 4 or i >= 3 * n / 4 else self.__y1 + self.__width\n",
    "            points.append((x, y))\n",
    "        \n",
    "        return points"
   ]
  },
  {
   "cell_type": "markdown",
   "id": "a3013d28",
   "metadata": {},
   "source": [
    "9. Add a function in the base class of the object classes that returns true/false testing that the object overlaps with another object."
   ]
  },
  {
   "cell_type": "code",
   "execution_count": null,
   "id": "dd2e8f22",
   "metadata": {},
   "outputs": [],
   "source": []
  },
  {
   "cell_type": "markdown",
   "id": "277d80c5",
   "metadata": {},
   "source": [
    "10. Copy the `Canvas` class from lecture to in a python file creating a `paint` module. Copy your classes from above into the module and implement paint functions. Implement a `CompoundShape` class. Create a simple drawing demonstrating that all of your classes are working."
   ]
  },
  {
   "cell_type": "code",
   "execution_count": null,
   "id": "6896fd42",
   "metadata": {},
   "outputs": [],
   "source": []
  },
  {
   "cell_type": "markdown",
   "id": "a13f26df",
   "metadata": {},
   "source": [
    "11. Create a `RasterDrawing` class. Demonstrate that you can create a drawing made of several shapes, paint the drawing, modify the drawing, and paint it again. "
   ]
  },
  {
   "cell_type": "code",
   "execution_count": null,
   "id": "0f6495e8",
   "metadata": {},
   "outputs": [],
   "source": []
  },
  {
   "cell_type": "markdown",
   "id": "eba0dac8",
   "metadata": {},
   "source": [
    "12. Implement the ability to load/save raster drawings and demonstate that your method works. One way to implement this ability:\n",
    "\n",
    "   * Overload `__repr__` functions of all objects to return strings of the python code that would construct the object.\n",
    "   \n",
    "   * In the save method of raster drawing class, store the representations into the file.\n",
    "   * Write a loader function that reads the file and uses `eval` to instantiate the object.\n",
    "\n",
    "For example:"
   ]
  },
  {
   "cell_type": "code",
   "execution_count": 1,
   "id": "ef114e1b",
   "metadata": {},
   "outputs": [],
   "source": [
    "class foo:\n",
    "    def __init__(self,a,b=None):\n",
    "        self.a=a\n",
    "        self.b=b\n",
    "        \n",
    "    def __repr__(self):\n",
    "        return \"foo(\"+repr(self.a)+\",\"+repr(self.b)+\")\"\n",
    "    \n",
    "    def save(self,filename):\n",
    "        f=open(filename,\"w\")\n",
    "        f.write(self.__repr__())\n",
    "        f.close()\n",
    "        \n",
    "   \n",
    "def foo_loader(filename):\n",
    "    f=open(filename,\"r\")\n",
    "    tmp=eval(f.read())\n",
    "    f.close()\n",
    "    return tmp"
   ]
  },
  {
   "cell_type": "code",
   "execution_count": 2,
   "id": "a26051fc",
   "metadata": {},
   "outputs": [
    {
     "name": "stdout",
     "output_type": "stream",
     "text": [
      "foo(1,'hello')\n"
     ]
    }
   ],
   "source": [
    "# Test\n",
    "print(repr(foo(1,\"hello\")))"
   ]
  },
  {
   "cell_type": "code",
   "execution_count": 3,
   "id": "1da815b6",
   "metadata": {},
   "outputs": [],
   "source": [
    "# Create an object and save it\n",
    "ff=foo(1,\"hello\")\n",
    "ff.save(\"Test.foo\")"
   ]
  },
  {
   "cell_type": "code",
   "execution_count": 4,
   "id": "c57eed71",
   "metadata": {},
   "outputs": [
    {
     "name": "stdout",
     "output_type": "stream",
     "text": [
      "foo(1,'hello')"
     ]
    }
   ],
   "source": [
    "# Check contents of the saved file\n",
    "!cat Test.foo"
   ]
  },
  {
   "cell_type": "code",
   "execution_count": 5,
   "id": "243c0ad0",
   "metadata": {},
   "outputs": [
    {
     "data": {
      "text/plain": [
       "foo(1,'hello')"
      ]
     },
     "execution_count": 5,
     "metadata": {},
     "output_type": "execute_result"
    }
   ],
   "source": [
    "# Load the object\n",
    "ff_reloaded=foo_loader(\"Test.foo\")\n",
    "ff_reloaded"
   ]
  },
  {
   "cell_type": "code",
   "execution_count": null,
   "id": "bf6fe444",
   "metadata": {},
   "outputs": [],
   "source": []
  },
  {
   "cell_type": "code",
   "execution_count": null,
   "id": "6e3826d8",
   "metadata": {},
   "outputs": [],
   "source": []
  }
 ],
 "metadata": {
  "kernelspec": {
   "display_name": "Python 3 (ipykernel)",
   "language": "python",
   "name": "python3"
  },
  "language_info": {
   "codemirror_mode": {
    "name": "ipython",
    "version": 3
   },
   "file_extension": ".py",
   "mimetype": "text/x-python",
   "name": "python",
   "nbconvert_exporter": "python",
   "pygments_lexer": "ipython3",
   "version": "3.9.13"
  }
 },
 "nbformat": 4,
 "nbformat_minor": 5
}
