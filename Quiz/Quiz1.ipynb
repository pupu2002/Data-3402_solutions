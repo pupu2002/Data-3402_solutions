{
 "cells": [
  {
   "cell_type": "markdown",
   "id": "ce6a07d6",
   "metadata": {},
   "source": [
    "Can you rewrite `create_new_args` as a two lines of code using functional programming, list comprehensions, and shortcuts? How about a single line?"
   ]
  },
  {
   "cell_type": "code",
   "execution_count": 1,
   "id": "6e0d68a7",
   "metadata": {},
   "outputs": [],
   "source": [
    "def create_new_args_0(args):\n",
    "    max_len = max(map(len,\n",
    "                      filter(lambda x: isinstance(x,list),\n",
    "                        args)))\n",
    "\n",
    "    # Rewrite this section:\n",
    "    new_args=list()\n",
    "\n",
    "    for a in args:\n",
    "        if not isinstance(a,list):\n",
    "            a0=[a]*max_len\n",
    "        elif len(a)!=max_len:\n",
    "            print(\"Error: all list arguments must have same length.\")\n",
    "            return\n",
    "        else:\n",
    "            a0=a\n",
    "        new_args.append(a0)\n",
    "\n",
    "    return new_args"
   ]
  },
  {
   "cell_type": "code",
   "execution_count": 6,
   "id": "fa5ccbd9",
   "metadata": {},
   "outputs": [],
   "source": [
    "def create_new_args_sol(args):\n",
    "    max_len = max(map(len, filter(lambda x: isinstance(x, list), args)))\n",
    "    return ([a if isinstance(a, list) and len(a) == max_len else [a] * max_len for a in args] if not any(map(lambda x: isinstance(x, list) and len(x) != max_len, args)) else print(\"Error: all list arguments must have the same length.\"))\n"
   ]
  },
  {
   "cell_type": "code",
   "execution_count": 10,
   "id": "860edde0",
   "metadata": {},
   "outputs": [
    {
     "name": "stdout",
     "output_type": "stream",
     "text": [
      "Error: all list arguments must have the same length.\n"
     ]
    }
   ],
   "source": [
    "create_new_args_sol([[1,2],[3,4,5],6])"
   ]
  },
  {
   "cell_type": "code",
   "execution_count": 11,
   "id": "e5ea9eeb",
   "metadata": {},
   "outputs": [
    {
     "data": {
      "text/plain": [
       "[[1, 2], [3, 4], [5, 5]]"
      ]
     },
     "execution_count": 11,
     "metadata": {},
     "output_type": "execute_result"
    }
   ],
   "source": [
    "create_new_args_sol([[1,2],[3,4],5])"
   ]
  }
 ],
 "metadata": {
  "kernelspec": {
   "display_name": "Python 3 (ipykernel)",
   "language": "python",
   "name": "python3"
  },
  "language_info": {
   "codemirror_mode": {
    "name": "ipython",
    "version": 3
   },
   "file_extension": ".py",
   "mimetype": "text/x-python",
   "name": "python",
   "nbconvert_exporter": "python",
   "pygments_lexer": "ipython3",
   "version": "3.9.13"
  }
 },
 "nbformat": 4,
 "nbformat_minor": 5
}
